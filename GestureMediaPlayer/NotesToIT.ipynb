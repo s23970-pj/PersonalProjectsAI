{
 "cells": [
  {
   "metadata": {},
   "cell_type": "markdown",
   "source": [
    " Technologia, Framework, dowolny; proszę nanieść w tabeli poniżej\t\t\n",
    "Dodać dokumentację do kodu źródłowego (np. Python -> docstring; Java -> Jdoc; Kotlina -> Kdoc; C++ -> doxgen, etc.)\t\t\n",
    "Dane do uczenia algorytmu udostępnić prowadzącemu.\t\t\n",
    "Rozwiązanie poprzedź komentarzem zawierający opis problem, autora, instrukcję użycia, (opcjonalnie: referencje).\t\t\n",
    "Rozwiązanie umieść w repozytoriach obu partnerów (użytym podczas pierwszy ćwiczeń)\t\t\n",
    "Dodać wideo z wywołaniem przykładowego scenariusza; w komituj do repozytorium\t\t"
   ],
   "id": "a53d43f7af49c3da"
  },
  {
   "metadata": {},
   "cell_type": "code",
   "outputs": [],
   "execution_count": null,
   "source": "",
   "id": "7f2904d90f8884f6"
  },
  {
   "metadata": {},
   "cell_type": "markdown",
   "source": [
    "#OpenCV\n",
    "#PyAutoGUI??\n",
    "Krok 1: Pobrać bazę gestów do pracy\n",
    "#opencv-python, mediapipe, pyautogui.\n",
    "#Krok 3: Inicjalizacja kamery i MediaPipe\n",
    "\n",
    "  #  Otwórz kamerę\n",
    "  #  Wykorzystaj model detekcji rąk MediaPipe\n",
    "\n",
    "#Krok 4: Wykrywanie dłoni i punktów charakterystycznych\n",
    "#\n",
    "#Każda dłoń ma 21 punktów charakterystycznych, które MediaPipe potrafi wykryć. Kluczowe punkty to:\n",
    "\n",
    "#    kciuk: THUMB_TIP\n",
    "  #  palec wskazujący: INDEX_FINGER_TIP\n",
    " #   środkowy: MIDDLE_FINGER_TIP\n",
    "\n",
    " #Krok 5: Definiowanie gestów\n",
    "\n",
    "#Zaproponowane gesty do obsługi odtwarzacza multimedialnego:\n",
    "\n",
    " #   Pauza/Odtwarzanie: zbliżenie kciuka i palca wskazującego.\n",
    "  #  Następny utwór: wyprostowany palec wskazujący.\n",
    "   # Poprzedni utwór: wyprostowany palec środkowy.\n",
    "    #Wyciszenie: złączenie kciuka i małego palca"
   ],
   "id": "e939ead7f2a1d557"
  }
 ],
 "metadata": {
  "kernelspec": {
   "display_name": "Python 3",
   "language": "python",
   "name": "python3"
  },
  "language_info": {
   "codemirror_mode": {
    "name": "ipython",
    "version": 2
   },
   "file_extension": ".py",
   "mimetype": "text/x-python",
   "name": "python",
   "nbconvert_exporter": "python",
   "pygments_lexer": "ipython2",
   "version": "2.7.6"
  }
 },
 "nbformat": 4,
 "nbformat_minor": 5
}
